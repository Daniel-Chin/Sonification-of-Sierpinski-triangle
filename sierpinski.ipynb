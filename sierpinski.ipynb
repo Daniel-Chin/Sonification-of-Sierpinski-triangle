{
 "cells": [
  {
   "cell_type": "code",
   "execution_count": null,
   "metadata": {},
   "outputs": [],
   "source": [
    "import numpy as np\n",
    "from IPython.display import Audio"
   ]
  },
  {
   "cell_type": "code",
   "execution_count": null,
   "metadata": {},
   "outputs": [],
   "source": [
    "SR = 22100"
   ]
  },
  {
   "cell_type": "code",
   "execution_count": null,
   "metadata": {},
   "outputs": [],
   "source": [
    "def playHard(data):\n",
    "    return Audio(data, rate = SR)\n",
    "def play(data, soft = .1):\n",
    "    t = np.concatenate([data, [1]])\n",
    "    length = round(soft * SR)\n",
    "    t[:length ] = np.multiply(t[:length ], np.linspace(0, 1, length))\n",
    "    t[-length:] = np.multiply(t[-length:], np.linspace(1, 0, length))\n",
    "    return playHard(t)"
   ]
  },
  {
   "cell_type": "markdown",
   "metadata": {},
   "source": [
    "# Sierpinski"
   ]
  },
  {
   "cell_type": "code",
   "execution_count": null,
   "metadata": {},
   "outputs": [],
   "source": [
    "DTYPE = np.int16"
   ]
  },
  {
   "cell_type": "code",
   "execution_count": null,
   "metadata": {},
   "outputs": [],
   "source": [
    "def nextRow(row, mod):\n",
    "    result = np.ones(row.size + 1, dtype = DTYPE)\n",
    "    for i in range(1, row.size):\n",
    "        result[i] = (row[i - 1] + row[i]) % mod\n",
    "    return result\n",
    "\n",
    "def sierpinski(rank, mod = 2):\n",
    "    result = [np.ones(1, dtype = DTYPE)]\n",
    "    for _ in range(rank):\n",
    "        result.append(nextRow(result[-1], mod))\n",
    "    return result\n",
    "\n",
    "sierpinski(15)"
   ]
  },
  {
   "cell_type": "code",
   "execution_count": null,
   "metadata": {},
   "outputs": [],
   "source": [
    "def rowSound(row, base_freq):\n",
    "    unit_n_samples = round(SR / base_freq)\n",
    "    result = np.zeros(row.size * unit_n_samples, dtype=np.float16)\n",
    "    for i, x in enumerate(row):\n",
    "        result[i * unit_n_samples : (i + 1) * unit_n_samples] = x\n",
    "    return result\n",
    "\n",
    "def trigSound(rows, base_freq = 880):\n",
    "    return np.concatenate([rowSound(x, base_freq) for x in rows])\n",
    "\n",
    "play(trigSound(sierpinski(700, 5), SR/1))"
   ]
  },
  {
   "cell_type": "code",
   "execution_count": null,
   "metadata": {},
   "outputs": [],
   "source": [
    "play(trigSound(sierpinski(300, 2), SR/16))"
   ]
  },
  {
   "cell_type": "code",
   "execution_count": null,
   "metadata": {},
   "outputs": [],
   "source": [
    "def getSquare(rank, mod):\n",
    "    rows = sierpinski(rank, mod)\n",
    "    result = np.zeros((len(rows), len(rows)), dtype=DTYPE)\n",
    "    for i, row in enumerate(rows):\n",
    "        result[i][:i + 1] = row\n",
    "    result += np.transpose(result)\n",
    "#     result += np.rot90(result)\n",
    "    result %= mod\n",
    "    return result\n",
    "\n",
    "play(trigSound(getSquare(800, 17), SR/1))"
   ]
  },
  {
   "cell_type": "code",
   "execution_count": null,
   "metadata": {},
   "outputs": [],
   "source": [
    "play(trigSound(getSquare(800, 5), SR/4))"
   ]
  }
 ],
 "metadata": {
  "kernelspec": {
   "display_name": "Python 3",
   "language": "python",
   "name": "python3"
  },
  "language_info": {
   "codemirror_mode": {
    "name": "ipython",
    "version": 3
   },
   "file_extension": ".py",
   "mimetype": "text/x-python",
   "name": "python",
   "nbconvert_exporter": "python",
   "pygments_lexer": "ipython3",
   "version": "3.6.10"
  }
 },
 "nbformat": 4,
 "nbformat_minor": 2
}
